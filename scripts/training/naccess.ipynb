{
 "cells": [
  {
   "cell_type": "code",
   "execution_count": 1,
   "metadata": {},
   "outputs": [],
   "source": [
    "import os"
   ]
  },
  {
   "cell_type": "code",
   "execution_count": 16,
   "metadata": {},
   "outputs": [],
   "source": [
    "for item in os.listdir('/home/kkh517/alphafold2.3_ab_benchmark/'):\n",
    "    if (len(item.split('_'))<4) or ('.' in item): continue\n",
    "    path_to= f\"/home/kkh517/alphafold2.3_ab_benchmark/{item}\"\n",
    "    ag_block_pdb = f'{path_to}/new_ag_block.pdb'\n",
    "    # os.chdir(path_to)\n",
    "    # command = f\"/home/mink/tools/naccess/naccess {ag_block_pdb}\"\n",
    "    # os.system(command)\n",
    "    # if not os.path.exists(ag_block_pdb):\n",
    "    #     print('no ag_block error')\n",
    "    if not os.path.exists(ag_block_pdb.replace('new_ag_block.pdb','alphafold2.rsa')):\n",
    "        print(f'{item} has no rsa')\n",
    "    \n"
   ]
  },
  {
   "cell_type": "code",
   "execution_count": 7,
   "metadata": {},
   "outputs": [
    {
     "name": "stdout",
     "output_type": "stream",
     "text": [
      "/home/kkh517/alphafold2.3_ab_benchmark/8h3x_A_#_C/new_ag_block.pdb\n"
     ]
    }
   ],
   "source": [
    "print(ag_block_pdb)"
   ]
  },
  {
   "cell_type": "code",
   "execution_count": 8,
   "metadata": {},
   "outputs": [
    {
     "name": "stdout",
     "output_type": "stream",
     "text": [
      "/home/mink/tools/naccess/naccess /home/kkh517/alphafold2.3_ab_benchmark/8h3x_A_#_C/new_ag_block.pdb\n"
     ]
    }
   ],
   "source": [
    "import os\n",
    "# FILEPATH: /home/kkh517/submit_files/Project/epitope_sampler_halfblood/scripts/training/naccess.ipynb\n",
    "command = f\"/home/mink/tools/naccess/naccess {ag_block_pdb}\"\n",
    "print(command)\n",
    "\n",
    "os.system(command)\n"
   ]
  },
  {
   "cell_type": "code",
   "execution_count": 12,
   "metadata": {},
   "outputs": [
    {
     "name": "stdout",
     "output_type": "stream",
     "text": [
      "/home/kkh517/submit_files/Project/epitope_sampler_halfblood/scripts/training\n",
      "/home/kkh517/alphafold2.3_ab_benchmark/8h3x_A_#_C\n"
     ]
    }
   ],
   "source": [
    "import os\n",
    "\n",
    "current_dir = os.getcwd()\n",
    "print(current_dir)\n",
    "\n",
    "path_to = f\"/home/kkh517/alphafold2.3_ab_benchmark/{item}\"\n",
    "os.chdir(path_to)\n",
    "print(os.getcwd())"
   ]
  },
  {
   "cell_type": "code",
   "execution_count": 17,
   "metadata": {},
   "outputs": [
    {
     "data": {
      "text/plain": [
       "'/home/kkh517/alphafold2.3_ab_benchmark/8h3x_A_#_C/alphafold2.rsa'"
      ]
     },
     "execution_count": 17,
     "metadata": {},
     "output_type": "execute_result"
    }
   ],
   "source": [
    "ag_block_pdb.replace('new_ag_block.pdb','alphafold2.rsa')"
   ]
  },
  {
   "cell_type": "code",
   "execution_count": null,
   "metadata": {},
   "outputs": [],
   "source": []
  }
 ],
 "metadata": {
  "kernelspec": {
   "display_name": "anarci",
   "language": "python",
   "name": "python3"
  },
  "language_info": {
   "codemirror_mode": {
    "name": "ipython",
    "version": 3
   },
   "file_extension": ".py",
   "mimetype": "text/x-python",
   "name": "python",
   "nbconvert_exporter": "python",
   "pygments_lexer": "ipython3",
   "version": "3.12.8"
  }
 },
 "nbformat": 4,
 "nbformat_minor": 2
}
